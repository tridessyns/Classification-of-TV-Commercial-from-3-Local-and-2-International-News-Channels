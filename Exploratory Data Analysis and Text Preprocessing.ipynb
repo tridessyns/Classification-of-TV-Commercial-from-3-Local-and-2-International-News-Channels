{
 "cells": [
  {
   "cell_type": "markdown",
   "metadata": {
    "id": "UVduhV-LFik3"
   },
   "source": [
    "## EXPLORATORY DATA ANALISYS"
   ]
  },
  {
   "cell_type": "code",
   "execution_count": null,
   "metadata": {
    "id": "GOQ33YWA5BIW"
   },
   "outputs": [],
   "source": [
    "# Colab library to upload files to notebook\n",
    "from google.colab import files\n",
    " \n",
    "# Install Kaggle library\n",
    "!pip install -q kaggle\n",
    " \n",
    "#library numerical python utk scientific computing\n",
    "import numpy as np # linear algebra\n",
    "import pandas as pd # data processing, CSV file I/O (e.g. pd.read_csv)\n",
    "\n",
    "import matplotlib.pyplot as plt"
   ]
  },
  {
   "cell_type": "code",
   "execution_count": null,
   "metadata": {
    "colab": {
     "base_uri": "https://localhost:8080/"
    },
    "id": "3zW_peuw5FJH",
    "outputId": "812f7f88-621b-4e97-e71d-93766a0a08f3"
   },
   "outputs": [
    {
     "name": "stdout",
     "output_type": "stream",
     "text": [
      "mkdir: cannot create directory ‘.kaggle’: File exists\n"
     ]
    }
   ],
   "source": [
    "!mkdir .kaggle"
   ]
  },
  {
   "cell_type": "code",
   "execution_count": null,
   "metadata": {
    "colab": {
     "base_uri": "https://localhost:8080/",
     "height": 91,
     "resources": {
      "http://localhost:8080/nbextensions/google.colab/files.js": {
       "data": "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",
       "headers": [
        [
         "content-type",
         "application/javascript"
        ]
       ],
       "ok": true,
       "status": 200,
       "status_text": ""
      }
     }
    },
    "id": "GJ0SK7Tj5LIt",
    "outputId": "001cbfab-47e1-43e0-8b5b-8ddb03c62c8d"
   },
   "outputs": [
    {
     "data": {
      "text/html": [
       "\n",
       "     <input type=\"file\" id=\"files-9b586ddc-caf0-4227-8613-ec46350b58e5\" name=\"files[]\" multiple disabled\n",
       "        style=\"border:none\" />\n",
       "     <output id=\"result-9b586ddc-caf0-4227-8613-ec46350b58e5\">\n",
       "      Upload widget is only available when the cell has been executed in the\n",
       "      current browser session. Please rerun this cell to enable.\n",
       "      </output>\n",
       "      <script src=\"/nbextensions/google.colab/files.js\"></script> "
      ],
      "text/plain": [
       "<IPython.core.display.HTML object>"
      ]
     },
     "metadata": {
      "tags": []
     },
     "output_type": "display_data"
    },
    {
     "name": "stdout",
     "output_type": "stream",
     "text": [
      "Saving kaggle.json to kaggle (1).json\n"
     ]
    },
    {
     "data": {
      "text/plain": [
       "{'kaggle.json': b'{\"username\":\"tridessynatalia\",\"key\":\"a07a5a9dc638adacef55d92e0f5b82e5\"}'}"
      ]
     },
     "execution_count": 3,
     "metadata": {
      "tags": []
     },
     "output_type": "execute_result"
    }
   ],
   "source": [
    "files.upload()"
   ]
  },
  {
   "cell_type": "code",
   "execution_count": null,
   "metadata": {
    "colab": {
     "base_uri": "https://localhost:8080/"
    },
    "id": "_Py8PEeP5NI-",
    "outputId": "80152f1e-c962-414c-cf6f-417f3c13756f"
   },
   "outputs": [
    {
     "name": "stdout",
     "output_type": "stream",
     "text": [
      "chmod: cannot access '/content/.kaggle/kaggle.json': No such file or directory\n"
     ]
    }
   ],
   "source": [
    "!chmod 600 /content/.kaggle/kaggle.json"
   ]
  },
  {
   "cell_type": "code",
   "execution_count": null,
   "metadata": {
    "colab": {
     "base_uri": "https://localhost:8080/"
    },
    "id": "tAnajIEm5SkU",
    "outputId": "90d0b597-5832-430e-deac-a46a72f94fbd"
   },
   "outputs": [
    {
     "name": "stdout",
     "output_type": "stream",
     "text": [
      "kaggle.json\n",
      "ag-news-classification-dataset.zip: Skipping, found more recently modified local copy (use --force to force download)\n"
     ]
    }
   ],
   "source": [
    "# Downlaod data kaggle\n",
    "!mkdir -p ~/.kaggle\n",
    "!cp kaggle.json ~/.kaggle/\n",
    "!ls ~/.kaggle\n",
    "!chmod 600 /root/.kaggle/kaggle.json\n",
    "!kaggle datasets download -d amananandrai/ag-news-classification-dataset"
   ]
  },
  {
   "cell_type": "code",
   "execution_count": null,
   "metadata": {
    "colab": {
     "base_uri": "https://localhost:8080/"
    },
    "id": "aSCG8PIR5VSo",
    "outputId": "e1a8617e-e8ea-4435-c96c-7489ddc15f88"
   },
   "outputs": [
    {
     "name": "stdout",
     "output_type": "stream",
     "text": [
      "Archive:  ag-news-classification-dataset.zip\n",
      "replace test.csv? [y]es, [n]o, [A]ll, [N]one, [r]ename: n\n",
      "replace train.csv? [y]es, [n]o, [A]ll, [N]one, [r]ename: n\n"
     ]
    }
   ],
   "source": [
    "!unzip \\*.zip"
   ]
  },
  {
   "cell_type": "code",
   "execution_count": null,
   "metadata": {
    "colab": {
     "base_uri": "https://localhost:8080/",
     "height": 194
    },
    "id": "J8I426V25Xzx",
    "outputId": "de541c55-b0da-4f2a-a431-36a2821334a7",
    "scrolled": true
   },
   "outputs": [
    {
     "data": {
      "text/html": [
       "<div>\n",
       "<style scoped>\n",
       "    .dataframe tbody tr th:only-of-type {\n",
       "        vertical-align: middle;\n",
       "    }\n",
       "\n",
       "    .dataframe tbody tr th {\n",
       "        vertical-align: top;\n",
       "    }\n",
       "\n",
       "    .dataframe thead th {\n",
       "        text-align: right;\n",
       "    }\n",
       "</style>\n",
       "<table border=\"1\" class=\"dataframe\">\n",
       "  <thead>\n",
       "    <tr style=\"text-align: right;\">\n",
       "      <th></th>\n",
       "      <th>Class Index</th>\n",
       "      <th>Title</th>\n",
       "      <th>Description</th>\n",
       "    </tr>\n",
       "  </thead>\n",
       "  <tbody>\n",
       "    <tr>\n",
       "      <th>0</th>\n",
       "      <td>3</td>\n",
       "      <td>Wall St. Bears Claw Back Into the Black (Reuters)</td>\n",
       "      <td>Reuters - Short-sellers, Wall Street's dwindli...</td>\n",
       "    </tr>\n",
       "    <tr>\n",
       "      <th>1</th>\n",
       "      <td>3</td>\n",
       "      <td>Carlyle Looks Toward Commercial Aerospace (Reu...</td>\n",
       "      <td>Reuters - Private investment firm Carlyle Grou...</td>\n",
       "    </tr>\n",
       "    <tr>\n",
       "      <th>2</th>\n",
       "      <td>3</td>\n",
       "      <td>Oil and Economy Cloud Stocks' Outlook (Reuters)</td>\n",
       "      <td>Reuters - Soaring crude prices plus worries\\ab...</td>\n",
       "    </tr>\n",
       "    <tr>\n",
       "      <th>3</th>\n",
       "      <td>3</td>\n",
       "      <td>Iraq Halts Oil Exports from Main Southern Pipe...</td>\n",
       "      <td>Reuters - Authorities have halted oil export\\f...</td>\n",
       "    </tr>\n",
       "    <tr>\n",
       "      <th>4</th>\n",
       "      <td>3</td>\n",
       "      <td>Oil prices soar to all-time record, posing new...</td>\n",
       "      <td>AFP - Tearaway world oil prices, toppling reco...</td>\n",
       "    </tr>\n",
       "  </tbody>\n",
       "</table>\n",
       "</div>"
      ],
      "text/plain": [
       "   Class Index  ...                                        Description\n",
       "0            3  ...  Reuters - Short-sellers, Wall Street's dwindli...\n",
       "1            3  ...  Reuters - Private investment firm Carlyle Grou...\n",
       "2            3  ...  Reuters - Soaring crude prices plus worries\\ab...\n",
       "3            3  ...  Reuters - Authorities have halted oil export\\f...\n",
       "4            3  ...  AFP - Tearaway world oil prices, toppling reco...\n",
       "\n",
       "[5 rows x 3 columns]"
      ]
     },
     "execution_count": 7,
     "metadata": {
      "tags": []
     },
     "output_type": "execute_result"
    }
   ],
   "source": [
    "root_path = '/content'\n",
    "train_path = f'{root_path}/train.csv'\n",
    "train_data = pd.read_csv(train_path)\n",
    "\n",
    "test_path = f'{root_path}/test.csv'\n",
    "test_data = pd.read_csv(test_path)\n",
    "train_data.head()"
   ]
  },
  {
   "cell_type": "markdown",
   "metadata": {},
   "source": [
    "#### Menggabung kolom Title dan Description menjadi satu kolom bernama summary"
   ]
  },
  {
   "cell_type": "code",
   "execution_count": null,
   "metadata": {
    "id": "OVo-hezN5aMZ"
   },
   "outputs": [],
   "source": [
    "train_data['summary'] = train_data['Title'] + ' ' + train_data['Description']\n",
    "test_data['summary'] = test_data['Title'] + ' ' + test_data['Description']\n",
    "\n",
    "train_data = train_data.drop(columns=['Title', 'Description'])\n",
    "test_data = test_data.drop(columns=['Title', 'Description'])\n",
    "\n",
    "labels = {1:'World News', 2:'Sports News', 3:'Business News', 4:'Science-Technology News'}\n",
    "\n",
    "train_data['label'] = train_data['Class Index'].map(labels)\n",
    "test_data['label'] = test_data['Class Index'].map(labels)"
   ]
  },
  {
   "cell_type": "code",
   "execution_count": null,
   "metadata": {
    "colab": {
     "base_uri": "https://localhost:8080/",
     "height": 194
    },
    "id": "Rc_Eu48Y5c-e",
    "outputId": "fd0f5896-91fb-410d-978d-c2f9b8edfebd"
   },
   "outputs": [
    {
     "data": {
      "text/html": [
       "<div>\n",
       "<style scoped>\n",
       "    .dataframe tbody tr th:only-of-type {\n",
       "        vertical-align: middle;\n",
       "    }\n",
       "\n",
       "    .dataframe tbody tr th {\n",
       "        vertical-align: top;\n",
       "    }\n",
       "\n",
       "    .dataframe thead th {\n",
       "        text-align: right;\n",
       "    }\n",
       "</style>\n",
       "<table border=\"1\" class=\"dataframe\">\n",
       "  <thead>\n",
       "    <tr style=\"text-align: right;\">\n",
       "      <th></th>\n",
       "      <th>summary</th>\n",
       "      <th>label</th>\n",
       "    </tr>\n",
       "  </thead>\n",
       "  <tbody>\n",
       "    <tr>\n",
       "      <th>0</th>\n",
       "      <td>Wall St. Bears Claw Back Into the Black (Reute...</td>\n",
       "      <td>Business News</td>\n",
       "    </tr>\n",
       "    <tr>\n",
       "      <th>1</th>\n",
       "      <td>Carlyle Looks Toward Commercial Aerospace (Reu...</td>\n",
       "      <td>Business News</td>\n",
       "    </tr>\n",
       "    <tr>\n",
       "      <th>2</th>\n",
       "      <td>Oil and Economy Cloud Stocks' Outlook (Reuters...</td>\n",
       "      <td>Business News</td>\n",
       "    </tr>\n",
       "    <tr>\n",
       "      <th>3</th>\n",
       "      <td>Iraq Halts Oil Exports from Main Southern Pipe...</td>\n",
       "      <td>Business News</td>\n",
       "    </tr>\n",
       "    <tr>\n",
       "      <th>4</th>\n",
       "      <td>Oil prices soar to all-time record, posing new...</td>\n",
       "      <td>Business News</td>\n",
       "    </tr>\n",
       "  </tbody>\n",
       "</table>\n",
       "</div>"
      ],
      "text/plain": [
       "                                             summary          label\n",
       "0  Wall St. Bears Claw Back Into the Black (Reute...  Business News\n",
       "1  Carlyle Looks Toward Commercial Aerospace (Reu...  Business News\n",
       "2  Oil and Economy Cloud Stocks' Outlook (Reuters...  Business News\n",
       "3  Iraq Halts Oil Exports from Main Southern Pipe...  Business News\n",
       "4  Oil prices soar to all-time record, posing new...  Business News"
      ]
     },
     "execution_count": 9,
     "metadata": {
      "tags": []
     },
     "output_type": "execute_result"
    }
   ],
   "source": [
    "train_data = train_data.drop(columns=['Class Index'])\n",
    "test_data = test_data.drop(columns=['Class Index'])\n",
    "train_data.head()"
   ]
  },
  {
   "cell_type": "code",
   "execution_count": null,
   "metadata": {
    "colab": {
     "base_uri": "https://localhost:8080/"
    },
    "id": "X5tcoIVf5fFo",
    "outputId": "b0cc851b-1d4a-4fb1-b1e4-882d0b4b1cd2"
   },
   "outputs": [
    {
     "name": "stdout",
     "output_type": "stream",
     "text": [
      "                                                  summary          label\n",
      "count                                              120000         120000\n",
      "unique                                             120000              4\n",
      "top     Bristol plans to move 5,000 to open source Bri...  Business News\n",
      "freq                                                    1          30000\n",
      "                                                  summary          label\n",
      "count                                                7600           7600\n",
      "unique                                               7600              4\n",
      "top     Pacific Oil Link Is Best for Russia, Ambassado...  Business News\n",
      "freq                                                    1           1900\n"
     ]
    }
   ],
   "source": [
    "print(train_data.describe())\n",
    "print(test_data.describe())"
   ]
  },
  {
   "cell_type": "code",
   "execution_count": null,
   "metadata": {
    "colab": {
     "base_uri": "https://localhost:8080/",
     "height": 164
    },
    "id": "Jp-xyWzF5hKi",
    "outputId": "9dfed247-9c4f-4b1a-d3b4-432cf68ddcfc"
   },
   "outputs": [
    {
     "data": {
      "text/html": [
       "<div>\n",
       "<style scoped>\n",
       "    .dataframe tbody tr th:only-of-type {\n",
       "        vertical-align: middle;\n",
       "    }\n",
       "\n",
       "    .dataframe tbody tr th {\n",
       "        vertical-align: top;\n",
       "    }\n",
       "\n",
       "    .dataframe thead th {\n",
       "        text-align: right;\n",
       "    }\n",
       "</style>\n",
       "<table border=\"1\" class=\"dataframe\">\n",
       "  <thead>\n",
       "    <tr style=\"text-align: right;\">\n",
       "      <th></th>\n",
       "      <th>summary</th>\n",
       "      <th>label</th>\n",
       "    </tr>\n",
       "  </thead>\n",
       "  <tbody>\n",
       "    <tr>\n",
       "      <th>count</th>\n",
       "      <td>7600</td>\n",
       "      <td>7600</td>\n",
       "    </tr>\n",
       "    <tr>\n",
       "      <th>unique</th>\n",
       "      <td>7600</td>\n",
       "      <td>4</td>\n",
       "    </tr>\n",
       "    <tr>\n",
       "      <th>top</th>\n",
       "      <td>Pacific Oil Link Is Best for Russia, Ambassado...</td>\n",
       "      <td>Business News</td>\n",
       "    </tr>\n",
       "    <tr>\n",
       "      <th>freq</th>\n",
       "      <td>1</td>\n",
       "      <td>1900</td>\n",
       "    </tr>\n",
       "  </tbody>\n",
       "</table>\n",
       "</div>"
      ],
      "text/plain": [
       "                                                  summary          label\n",
       "count                                                7600           7600\n",
       "unique                                               7600              4\n",
       "top     Pacific Oil Link Is Best for Russia, Ambassado...  Business News\n",
       "freq                                                    1           1900"
      ]
     },
     "execution_count": 11,
     "metadata": {
      "tags": []
     },
     "output_type": "execute_result"
    }
   ],
   "source": [
    "test_data.describe()"
   ]
  },
  {
   "cell_type": "markdown",
   "metadata": {},
   "source": [
    "#### Berdasarkan output diatas, dapat dilihat bahwa jumlah label sebanyak 4. Data train terdiri atas 120000 baris dan data test terdiri atas 7600 baris."
   ]
  },
  {
   "cell_type": "code",
   "execution_count": null,
   "metadata": {
    "colab": {
     "base_uri": "https://localhost:8080/"
    },
    "id": "FvYC5tTP5i9R",
    "outputId": "22741fd6-202c-4257-c0de-46b59004e023"
   },
   "outputs": [
    {
     "name": "stdout",
     "output_type": "stream",
     "text": [
      "<class 'pandas.core.frame.DataFrame'>\n",
      "RangeIndex: 120000 entries, 0 to 119999\n",
      "Data columns (total 2 columns):\n",
      " #   Column   Non-Null Count   Dtype \n",
      "---  ------   --------------   ----- \n",
      " 0   summary  120000 non-null  object\n",
      " 1   label    120000 non-null  object\n",
      "dtypes: object(2)\n",
      "memory usage: 1.8+ MB\n",
      "None\n",
      "<class 'pandas.core.frame.DataFrame'>\n",
      "RangeIndex: 7600 entries, 0 to 7599\n",
      "Data columns (total 2 columns):\n",
      " #   Column   Non-Null Count  Dtype \n",
      "---  ------   --------------  ----- \n",
      " 0   summary  7600 non-null   object\n",
      " 1   label    7600 non-null   object\n",
      "dtypes: object(2)\n",
      "memory usage: 118.9+ KB\n",
      "None\n"
     ]
    }
   ],
   "source": [
    "print(train_data.info())\n",
    "print(test_data.info())"
   ]
  },
  {
   "cell_type": "code",
   "execution_count": null,
   "metadata": {
    "colab": {
     "base_uri": "https://localhost:8080/"
    },
    "id": "hzh3VnJW5lIe",
    "outputId": "613cbb09-9d0b-4054-8b01-da58fcab992c"
   },
   "outputs": [
    {
     "data": {
      "text/plain": [
       "summary    0\n",
       "label      0\n",
       "dtype: int64"
      ]
     },
     "execution_count": 13,
     "metadata": {
      "tags": []
     },
     "output_type": "execute_result"
    }
   ],
   "source": [
    "train_data.isna().sum()"
   ]
  },
  {
   "cell_type": "code",
   "execution_count": null,
   "metadata": {
    "colab": {
     "base_uri": "https://localhost:8080/"
    },
    "id": "5fYBgnBD5nIn",
    "outputId": "8ea86ed3-bd45-48fc-a0ef-913b8a2c7c0a"
   },
   "outputs": [
    {
     "data": {
      "text/plain": [
       "summary    0\n",
       "label      0\n",
       "dtype: int64"
      ]
     },
     "execution_count": 14,
     "metadata": {
      "tags": []
     },
     "output_type": "execute_result"
    }
   ],
   "source": [
    "test_data.isna().sum()"
   ]
  },
  {
   "cell_type": "markdown",
   "metadata": {},
   "source": [
    "#### Tidak terdapat nilai null pada dataset"
   ]
  },
  {
   "cell_type": "markdown",
   "metadata": {
    "id": "PdOgn3LU5rc2"
   },
   "source": [
    "## **TEXT PREPROCESSING**"
   ]
  },
  {
   "cell_type": "markdown",
   "metadata": {
    "id": "hDYRS8x4hpRP"
   },
   "source": [
    "### 1. Punctuation Removal"
   ]
  },
  {
   "cell_type": "code",
   "execution_count": null,
   "metadata": {
    "id": "c5NxgT6Mltza"
   },
   "outputs": [],
   "source": [
    "import numpy as np \n",
    "import pandas as pd \n",
    "import re\n",
    "import string"
   ]
  },
  {
   "cell_type": "code",
   "execution_count": null,
   "metadata": {
    "id": "gRaaOPz5hoTG"
   },
   "outputs": [],
   "source": [
    "def remove_punc(text):\n",
    "    text = re.sub('\\[.*?\\]', '', text)\n",
    "    text = re.sub('https?://\\S+|www\\.\\S+', '', text)\n",
    "    text = re.sub('<.*?>+', '', text)\n",
    "    text = re.sub('[%s]' % re.escape(string.punctuation), '', text)\n",
    "    text = re.sub('\\n', '', text)\n",
    "    text = re.sub('\\w*\\d\\w*', '', text)\n",
    "    return text\n",
    "\n",
    "train_data['summary'] = train_data['summary'].apply(lambda x: remove_punc(x))\n",
    "test_data['summary'] = test_data['summary'].apply(lambda x: remove_punc(x))"
   ]
  },
  {
   "cell_type": "code",
   "execution_count": null,
   "metadata": {
    "colab": {
     "base_uri": "https://localhost:8080/"
    },
    "id": "AKur_zvEiJq_",
    "outputId": "7697808c-c173-4474-9544-c669434e981e"
   },
   "outputs": [
    {
     "name": "stdout",
     "output_type": "stream",
     "text": [
      "                                                  summary          label\n",
      "0       Wall St Bears Claw Back Into the Black Reuters...  Business News\n",
      "1       Carlyle Looks Toward Commercial Aerospace Reut...  Business News\n",
      "2       Oil and Economy Cloud Stocks Outlook Reuters R...  Business News\n",
      "3       Iraq Halts Oil Exports from Main Southern Pipe...  Business News\n",
      "4       Oil prices soar to alltime record posing new m...  Business News\n",
      "...                                                   ...            ...\n",
      "119995  Pakistans Musharraf Says Wont Quit as Army Chi...     World News\n",
      "119996  Renteria signing a topshelf deal Red Sox gener...    Sports News\n",
      "119997  Saban not going to Dolphins yet The Miami Dolp...    Sports News\n",
      "119998  Todays NFL games PITTSBURGH at NY GIANTS Time ...    Sports News\n",
      "119999  Nets get Carter from Raptors INDIANAPOLIS  All...    Sports News\n",
      "\n",
      "[120000 rows x 2 columns]\n",
      "                                                summary                    label\n",
      "0     Fears for T N pension after talks Unions repre...            Business News\n",
      "1     The Race is On Second Private Team Sets Launch...  Science-Technology News\n",
      "2     Ky Company Wins Grant to Study Peptides AP AP ...  Science-Technology News\n",
      "3     Prediction Unit Helps Forecast Wildfires AP AP...  Science-Technology News\n",
      "4     Calif Aims to Limit FarmRelated Smog AP AP  So...  Science-Technology News\n",
      "...                                                 ...                      ...\n",
      "7595  Around the world Ukrainian presidential candid...               World News\n",
      "7596  Void is filled with Clement With the supply of...              Sports News\n",
      "7597  Martinez leaves bitter Like Roger Clemens did ...              Sports News\n",
      "7598   of arthritis patients in Singapore take Bextr...            Business News\n",
      "7599  EBay gets into rentals EBay plans to buy the a...            Business News\n",
      "\n",
      "[7600 rows x 2 columns]\n"
     ]
    }
   ],
   "source": [
    "print(train_data)\n",
    "print(test_data)"
   ]
  },
  {
   "cell_type": "markdown",
   "metadata": {
    "id": "aRAbAykx5xhT"
   },
   "source": [
    "### 2. Case Folding"
   ]
  },
  {
   "cell_type": "code",
   "execution_count": null,
   "metadata": {
    "id": "XglOhV675pD-"
   },
   "outputs": [],
   "source": [
    "import numpy as np \n",
    "import pandas as pd \n",
    "\n",
    "train_data['summary'] = train_data['summary'].str.lower()\n",
    "train_data['label'] = train_data['label'].str.lower()\n",
    "\n",
    "test_data['summary'] = test_data['summary'].str.lower()\n",
    "test_data['label'] = test_data['label'].str.lower()"
   ]
  },
  {
   "cell_type": "code",
   "execution_count": null,
   "metadata": {
    "colab": {
     "base_uri": "https://localhost:8080/"
    },
    "id": "31Y0ugDC53vv",
    "outputId": "124c4075-76b7-4d69-b377-4619579a942a"
   },
   "outputs": [
    {
     "name": "stdout",
     "output_type": "stream",
     "text": [
      "                                                  summary          label\n",
      "0       wall st bears claw back into the black reuters...  business news\n",
      "1       carlyle looks toward commercial aerospace reut...  business news\n",
      "2       oil and economy cloud stocks outlook reuters r...  business news\n",
      "3       iraq halts oil exports from main southern pipe...  business news\n",
      "4       oil prices soar to alltime record posing new m...  business news\n",
      "...                                                   ...            ...\n",
      "119995  pakistans musharraf says wont quit as army chi...     world news\n",
      "119996  renteria signing a topshelf deal red sox gener...    sports news\n",
      "119997  saban not going to dolphins yet the miami dolp...    sports news\n",
      "119998  todays nfl games pittsburgh at ny giants time ...    sports news\n",
      "119999  nets get carter from raptors indianapolis  all...    sports news\n",
      "\n",
      "[120000 rows x 2 columns]\n",
      "                                                summary                    label\n",
      "0     fears for t n pension after talks unions repre...            business news\n",
      "1     the race is on second private team sets launch...  science-technology news\n",
      "2     ky company wins grant to study peptides ap ap ...  science-technology news\n",
      "3     prediction unit helps forecast wildfires ap ap...  science-technology news\n",
      "4     calif aims to limit farmrelated smog ap ap  so...  science-technology news\n",
      "...                                                 ...                      ...\n",
      "7595  around the world ukrainian presidential candid...               world news\n",
      "7596  void is filled with clement with the supply of...              sports news\n",
      "7597  martinez leaves bitter like roger clemens did ...              sports news\n",
      "7598   of arthritis patients in singapore take bextr...            business news\n",
      "7599  ebay gets into rentals ebay plans to buy the a...            business news\n",
      "\n",
      "[7600 rows x 2 columns]\n"
     ]
    }
   ],
   "source": [
    "print(train_data)\n",
    "print(test_data)"
   ]
  },
  {
   "cell_type": "markdown",
   "metadata": {
    "id": "MeOCN0An5860"
   },
   "source": [
    "### 3. Tokenizing"
   ]
  },
  {
   "cell_type": "code",
   "execution_count": null,
   "metadata": {
    "colab": {
     "base_uri": "https://localhost:8080/"
    },
    "id": "5g1WbNYA56Ow",
    "outputId": "c0e3fe6b-c957-4038-9ca7-7cf4161cc7b3"
   },
   "outputs": [
    {
     "name": "stdout",
     "output_type": "stream",
     "text": [
      "[nltk_data] Downloading package punkt to /root/nltk_data...\n",
      "[nltk_data]   Package punkt is already up-to-date!\n"
     ]
    }
   ],
   "source": [
    "import nltk\n",
    "nltk.download('punkt')\n",
    "train_summary = train_data['summary']\n",
    "test_summary = test_data['summary']"
   ]
  },
  {
   "cell_type": "code",
   "execution_count": null,
   "metadata": {
    "id": "9rQjAsdV6AB9"
   },
   "outputs": [],
   "source": [
    "from nltk.tokenize import word_tokenize\n",
    "word_tokens = []\n",
    "for sent in train_summary:\n",
    "    # print(word_tokenize(sent))\n",
    "    word_tokens.append(word_tokenize(sent))"
   ]
  },
  {
   "cell_type": "code",
   "execution_count": null,
   "metadata": {
    "id": "nNiBTM926Hvd"
   },
   "outputs": [],
   "source": [
    "word_tokens2 = []\n",
    "for sent in test_summary:\n",
    "    # print(word_tokenize2(sent))\n",
    "    word_tokens2.append(word_tokenize(sent))"
   ]
  },
  {
   "cell_type": "code",
   "execution_count": null,
   "metadata": {
    "id": "xSjrd_qkoV2b"
   },
   "outputs": [],
   "source": [
    "train_data['summary'] = word_tokens\n",
    "test_data['summary'] = word_tokens2"
   ]
  },
  {
   "cell_type": "code",
   "execution_count": null,
   "metadata": {
    "colab": {
     "base_uri": "https://localhost:8080/"
    },
    "id": "wO4w4pLLo8S_",
    "outputId": "21ef01d5-f5be-4fde-a1a7-01d96b9cfe93"
   },
   "outputs": [
    {
     "name": "stdout",
     "output_type": "stream",
     "text": [
      "                                                  summary          label\n",
      "0       [wall, st, bears, claw, back, into, the, black...  business news\n",
      "1       [carlyle, looks, toward, commercial, aerospace...  business news\n",
      "2       [oil, and, economy, cloud, stocks, outlook, re...  business news\n",
      "3       [iraq, halts, oil, exports, from, main, southe...  business news\n",
      "4       [oil, prices, soar, to, alltime, record, posin...  business news\n",
      "...                                                   ...            ...\n",
      "119995  [pakistans, musharraf, says, wont, quit, as, a...     world news\n",
      "119996  [renteria, signing, a, topshelf, deal, red, so...    sports news\n",
      "119997  [saban, not, going, to, dolphins, yet, the, mi...    sports news\n",
      "119998  [todays, nfl, games, pittsburgh, at, ny, giant...    sports news\n",
      "119999  [nets, get, carter, from, raptors, indianapoli...    sports news\n",
      "\n",
      "[120000 rows x 2 columns]\n",
      "                                                summary                    label\n",
      "0     [fears, for, t, n, pension, after, talks, unio...            business news\n",
      "1     [the, race, is, on, second, private, team, set...  science-technology news\n",
      "2     [ky, company, wins, grant, to, study, peptides...  science-technology news\n",
      "3     [prediction, unit, helps, forecast, wildfires,...  science-technology news\n",
      "4     [calif, aims, to, limit, farmrelated, smog, ap...  science-technology news\n",
      "...                                                 ...                      ...\n",
      "7595  [around, the, world, ukrainian, presidential, ...               world news\n",
      "7596  [void, is, filled, with, clement, with, the, s...              sports news\n",
      "7597  [martinez, leaves, bitter, like, roger, clemen...              sports news\n",
      "7598  [of, arthritis, patients, in, singapore, take,...            business news\n",
      "7599  [ebay, gets, into, rentals, ebay, plans, to, b...            business news\n",
      "\n",
      "[7600 rows x 2 columns]\n"
     ]
    }
   ],
   "source": [
    "print(train_data)\n",
    "print(test_data)"
   ]
  },
  {
   "cell_type": "markdown",
   "metadata": {
    "id": "qug0tXUR65L5"
   },
   "source": [
    "### 4. Stopwords Removal"
   ]
  },
  {
   "cell_type": "code",
   "execution_count": null,
   "metadata": {
    "colab": {
     "base_uri": "https://localhost:8080/"
    },
    "id": "4JM9EZIK61la",
    "outputId": "e01d2c28-5a8b-4b2c-b81c-2d013edd8da1"
   },
   "outputs": [
    {
     "name": "stdout",
     "output_type": "stream",
     "text": [
      "[nltk_data] Downloading package stopwords to /root/nltk_data...\n",
      "[nltk_data]   Package stopwords is already up-to-date!\n"
     ]
    },
    {
     "data": {
      "text/plain": [
       "True"
      ]
     },
     "execution_count": 25,
     "metadata": {
      "tags": []
     },
     "output_type": "execute_result"
    }
   ],
   "source": [
    "from nltk.corpus import stopwords\n",
    "nltk.download('stopwords')"
   ]
  },
  {
   "cell_type": "code",
   "execution_count": null,
   "metadata": {
    "id": "wD3Uc8Ef7KR6"
   },
   "outputs": [],
   "source": [
    "train_summary = train_data['summary']\n",
    "test_summary = test_data['summary']\n",
    "\n",
    "for i in range(len(train_summary)):\n",
    "    train_summary[i] = [w for w in train_summary[i] if w not in stopwords.words('english')]\n",
    "\n",
    "\n",
    "for i in range(len(test_summary)):\n",
    "    test_summary[i] = [w for w in test_summary[i] if w not in stopwords.words('english')]\n"
   ]
  },
  {
   "cell_type": "code",
   "execution_count": null,
   "metadata": {
    "id": "KZ1BZPqQIFVP"
   },
   "outputs": [],
   "source": [
    "train_data['summary'] = train_summary\n",
    "test_data['summary'] = test_summary"
   ]
  },
  {
   "cell_type": "code",
   "execution_count": null,
   "metadata": {
    "colab": {
     "base_uri": "https://localhost:8080/"
    },
    "id": "3Hq7URd8T1Nv",
    "outputId": "503411af-fff2-4cf6-e0a9-56f579e311fe"
   },
   "outputs": [
    {
     "name": "stdout",
     "output_type": "stream",
     "text": [
      "                                                  summary          label\n",
      "0       [wall, st, bears, claw, back, black, reuters, ...  business news\n",
      "1       [carlyle, looks, toward, commercial, aerospace...  business news\n",
      "2       [oil, economy, cloud, stocks, outlook, reuters...  business news\n",
      "3       [iraq, halts, oil, exports, main, southern, pi...  business news\n",
      "4       [oil, prices, soar, alltime, record, posing, n...  business news\n",
      "...                                                   ...            ...\n",
      "119995  [pakistans, musharraf, says, wont, quit, army,...     world news\n",
      "119996  [renteria, signing, topshelf, deal, red, sox, ...    sports news\n",
      "119997  [saban, going, dolphins, yet, miami, dolphins,...    sports news\n",
      "119998  [todays, nfl, games, pittsburgh, ny, giants, t...    sports news\n",
      "119999  [nets, get, carter, raptors, indianapolis, all...    sports news\n",
      "\n",
      "[120000 rows x 2 columns]\n",
      "                                                summary                    label\n",
      "0     [fears, n, pension, talks, unions, representin...            business news\n",
      "1     [race, second, private, team, sets, launch, da...  science-technology news\n",
      "2     [ky, company, wins, grant, study, peptides, ap...  science-technology news\n",
      "3     [prediction, unit, helps, forecast, wildfires,...  science-technology news\n",
      "4     [calif, aims, limit, farmrelated, smog, ap, ap...  science-technology news\n",
      "...                                                 ...                      ...\n",
      "7595  [around, world, ukrainian, presidential, candi...               world news\n",
      "7596  [void, filled, clement, supply, attractive, pi...              sports news\n",
      "7597  [martinez, leaves, bitter, like, roger, clemen...              sports news\n",
      "7598  [arthritis, patients, singapore, take, bextra,...            business news\n",
      "7599  [ebay, gets, rentals, ebay, plans, buy, apartm...            business news\n",
      "\n",
      "[7600 rows x 2 columns]\n"
     ]
    }
   ],
   "source": [
    "print(train_data)\n",
    "print(test_data)"
   ]
  },
  {
   "cell_type": "markdown",
   "metadata": {
    "id": "EY49l0hLUIj8"
   },
   "source": [
    "### 5. Stemming"
   ]
  },
  {
   "cell_type": "code",
   "execution_count": null,
   "metadata": {
    "id": "Lm4uvywauWeE"
   },
   "outputs": [],
   "source": [
    "import nltk\n",
    "from nltk import PorterStemmer"
   ]
  },
  {
   "cell_type": "code",
   "execution_count": null,
   "metadata": {
    "id": "W7FIupahMg15"
   },
   "outputs": [],
   "source": [
    "ps = PorterStemmer()\n",
    "def stemming(tokenized_text):\n",
    "  text = [ps.stem(word) for word in tokenized_text]\n",
    "  return text "
   ]
  },
  {
   "cell_type": "code",
   "execution_count": null,
   "metadata": {
    "colab": {
     "base_uri": "https://localhost:8080/"
    },
    "id": "QUU22A_8MyNq",
    "outputId": "79e291fa-3065-4aaf-d4be-9cbb759c54be"
   },
   "outputs": [
    {
     "name": "stdout",
     "output_type": "stream",
     "text": [
      "                                             summary          label\n",
      "0  [wall, st, bear, claw, back, black, reuter, re...  business news\n",
      "1  [carlyl, look, toward, commerci, aerospac, reu...  business news\n",
      "2  [oil, economi, cloud, stock, outlook, reuter, ...  business news\n",
      "3  [iraq, halt, oil, export, main, southern, pipe...  business news\n",
      "4  [oil, price, soar, alltim, record, pose, new, ...  business news\n",
      "                                             summary                    label\n",
      "0  [fear, n, pension, talk, union, repres, worker...            business news\n",
      "1  [race, second, privat, team, set, launch, date...  science-technology news\n",
      "2  [ky, compani, win, grant, studi, peptid, ap, a...  science-technology news\n",
      "3  [predict, unit, help, forecast, wildfir, ap, a...  science-technology news\n",
      "4  [calif, aim, limit, farmrel, smog, ap, ap, sou...  science-technology news\n"
     ]
    }
   ],
   "source": [
    "train_data['summary'] = train_data['summary'].apply(lambda x: stemming(x))\n",
    "test_data['summary'] = test_data['summary'].apply(lambda x: stemming(x))\n",
    "print(train_data.head())\n",
    "print(test_data.head())"
   ]
  },
  {
   "cell_type": "markdown",
   "metadata": {
    "id": "C36Qtd5LrEkf"
   },
   "source": [
    "### 6. Lemmatization"
   ]
  },
  {
   "cell_type": "code",
   "execution_count": null,
   "metadata": {
    "colab": {
     "base_uri": "https://localhost:8080/"
    },
    "id": "W0c22TNvrDhb",
    "outputId": "14822684-dd05-4290-e82e-3a43a6f28522"
   },
   "outputs": [
    {
     "name": "stdout",
     "output_type": "stream",
     "text": [
      "[nltk_data] Downloading package wordnet to /root/nltk_data...\n",
      "[nltk_data]   Package wordnet is already up-to-date!\n"
     ]
    },
    {
     "data": {
      "text/plain": [
       "True"
      ]
     },
     "execution_count": 34,
     "metadata": {
      "tags": []
     },
     "output_type": "execute_result"
    }
   ],
   "source": [
    "import nltk\n",
    "nltk.download('wordnet')"
   ]
  },
  {
   "cell_type": "code",
   "execution_count": null,
   "metadata": {
    "id": "qfEDzUqyb_PI"
   },
   "outputs": [],
   "source": [
    "from nltk import word_tokenize, WordNetLemmatizer\n",
    "wnl = nltk.WordNetLemmatizer()"
   ]
  },
  {
   "cell_type": "code",
   "execution_count": null,
   "metadata": {
    "id": "FOL_ipZCsBXX"
   },
   "outputs": [],
   "source": [
    "def lemmatize(tokenized_text):\n",
    "    text = [wnl.lemmatize(word) for word in tokenized_text]\n",
    "    return text"
   ]
  },
  {
   "cell_type": "code",
   "execution_count": null,
   "metadata": {
    "colab": {
     "base_uri": "https://localhost:8080/"
    },
    "id": "adilZ5aasWZC",
    "outputId": "724c0578-c751-43bb-c82e-f8a917d96fbb"
   },
   "outputs": [
    {
     "name": "stdout",
     "output_type": "stream",
     "text": [
      "                                             summary          label\n",
      "0  [wall, st, bear, claw, back, black, reuter, re...  business news\n",
      "1  [carlyl, look, toward, commerci, aerospac, reu...  business news\n",
      "2  [oil, economi, cloud, stock, outlook, reuter, ...  business news\n",
      "3  [iraq, halt, oil, export, main, southern, pipe...  business news\n",
      "4  [oil, price, soar, alltim, record, pose, new, ...  business news\n",
      "                                             summary                    label\n",
      "0  [fear, n, pension, talk, union, repres, worker...            business news\n",
      "1  [race, second, privat, team, set, launch, date...  science-technology news\n",
      "2  [ky, compani, win, grant, studi, peptid, ap, a...  science-technology news\n",
      "3  [predict, unit, help, forecast, wildfir, ap, a...  science-technology news\n",
      "4  [calif, aim, limit, farmrel, smog, ap, ap, sou...  science-technology news\n"
     ]
    }
   ],
   "source": [
    "train_data['summary'] = train_data['summary'].apply(lambda x: lemmatize(x))\n",
    "test_data['summary'] = test_data['summary'].apply(lambda x: lemmatize(x))\n",
    "print(train_data.head())\n",
    "print(test_data.head())"
   ]
  },
  {
   "cell_type": "markdown",
   "metadata": {},
   "source": [
    "### Save Data Cleaned to Drive/Repository"
   ]
  },
  {
   "cell_type": "code",
   "execution_count": null,
   "metadata": {
    "id": "ePFThYg-WARQ"
   },
   "outputs": [],
   "source": [
    "from google.colab import  drive"
   ]
  },
  {
   "cell_type": "code",
   "execution_count": null,
   "metadata": {
    "colab": {
     "base_uri": "https://localhost:8080/"
    },
    "id": "pnkrNwihRM0Y",
    "outputId": "63432da1-1f8e-4346-fbab-6366d402c7d7"
   },
   "outputs": [
    {
     "name": "stdout",
     "output_type": "stream",
     "text": [
      "Drive already mounted at /drive; to attempt to forcibly remount, call drive.mount(\"/drive\", force_remount=True).\n"
     ]
    }
   ],
   "source": [
    "drive.mount('/drive')"
   ]
  },
  {
   "cell_type": "code",
   "execution_count": null,
   "metadata": {
    "id": "z4X0z2UmqsHg"
   },
   "outputs": [],
   "source": [
    "train_data.to_csv('/drive/My Drive/train_data_cleaned.csv')"
   ]
  },
  {
   "cell_type": "code",
   "execution_count": null,
   "metadata": {
    "id": "pH1CwGUvRqO1"
   },
   "outputs": [],
   "source": [
    "test_data.to_csv('/drive/My Drive/test_data_cleaned.csv')"
   ]
  },
  {
   "cell_type": "code",
   "execution_count": null,
   "metadata": {
    "id": "fxAiMnm3Bsx8"
   },
   "outputs": [],
   "source": [
    "train_data.to_excel('/drive/My Drive/train_data_cleaned.xlsx')"
   ]
  },
  {
   "cell_type": "code",
   "execution_count": null,
   "metadata": {
    "id": "z2M2wJmiBs8Y"
   },
   "outputs": [],
   "source": [
    "test_data.to_excel('/drive/My Drive/test_data_cleaned.xlsx')"
   ]
  }
 ],
 "metadata": {
  "colab": {
   "collapsed_sections": [],
   "name": "Proyek PBA",
   "provenance": []
  },
  "kernelspec": {
   "display_name": "Python 3",
   "language": "python",
   "name": "python3"
  },
  "language_info": {
   "codemirror_mode": {
    "name": "ipython",
    "version": 3
   },
   "file_extension": ".py",
   "mimetype": "text/x-python",
   "name": "python",
   "nbconvert_exporter": "python",
   "pygments_lexer": "ipython3",
   "version": "3.6.5"
  }
 },
 "nbformat": 4,
 "nbformat_minor": 1
}
